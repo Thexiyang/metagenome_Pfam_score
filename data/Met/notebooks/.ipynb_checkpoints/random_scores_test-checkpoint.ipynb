{
 "cells": [
  {
   "cell_type": "code",
   "execution_count": 3,
   "metadata": {
    "collapsed": true
   },
   "outputs": [],
   "source": [
    "%matplotlib inline\n",
    "import numpy as np\n",
    "import matplotlib.pylab as plt\n",
    "import pandas as pd\n",
    "import seaborn as sns\n",
    "from scipy import stats\n",
    "import numpy as np\n",
    "import matplotlib"
   ]
  },
  {
   "cell_type": "markdown",
   "metadata": {},
   "source": [
    "# Random scores from metagenomic and genomic datasets"
   ]
  },
  {
   "cell_type": "code",
   "execution_count": 69,
   "metadata": {
    "collapsed": false
   },
   "outputs": [],
   "source": [
    "gen=pd.read_table('random_test_50.random_scores.tab', index_col=0)\n"
   ]
  },
  {
   "cell_type": "code",
   "execution_count": 50,
   "metadata": {
    "collapsed": false
   },
   "outputs": [
    {
     "data": {
      "text/plain": [
       "GCF_000005825.2     True\n",
       "GCF_000005845.2     True\n",
       "GCF_000006175.1    False\n",
       "GCF_000006605.1     True\n",
       "GCF_000006625.1     True\n",
       "GCF_000006645.1     True\n",
       "GCF_000006685.1    False\n",
       "GCF_000006725.1     True\n",
       "GCF_000006745.1    False\n",
       "GCF_000006765.1     True\n",
       "GCF_000006785.2    False\n",
       "GCF_000006805.1     True\n",
       "GCF_000006825.1     True\n",
       "GCF_000006845.1     True\n",
       "GCF_000006865.1    False\n",
       "GCF_000006885.1    False\n",
       "GCF_000006905.1     True\n",
       "GCF_000006945.1    False\n",
       "GCF_000006965.1     True\n",
       "GCF_000006985.1     True\n",
       "GCF_000007005.1     True\n",
       "GCF_000007025.1    False\n",
       "GCF_000007065.1    False\n",
       "GCF_000007085.1     True\n",
       "GCF_000007105.1    False\n",
       "GCF_000007125.1     True\n",
       "GCF_000007145.1    False\n",
       "GCF_000007165.1     True\n",
       "GCF_000007205.1     True\n",
       "GCF_000007245.1     True\n",
       "                   ...  \n",
       "GCF_001653935.1     True\n",
       "GCF_001654495.1    False\n",
       "GCF_001655245.1     True\n",
       "GCF_001655615.1     True\n",
       "GCF_001658025.1     True\n",
       "GCF_001660045.1     True\n",
       "GCF_001661075.1     True\n",
       "GCF_001663835.1    False\n",
       "GCF_001664085.1     True\n",
       "GCF_001664485.1     True\n",
       "GCF_001676765.1     True\n",
       "GCF_001677275.1     True\n",
       "GCF_001678905.1     True\n",
       "GCF_001678945.1     True\n",
       "GCF_001687565.2     True\n",
       "GCF_001687585.2    False\n",
       "GCF_001687665.2     True\n",
       "GCF_001687805.1    False\n",
       "GCF_001688625.1    False\n",
       "GCF_001688665.1     True\n",
       "GCF_001688725.1     True\n",
       "GCF_001688965.1     True\n",
       "GCF_001689125.1     True\n",
       "GCF_001693255.1     True\n",
       "GCF_001693385.1    False\n",
       "GCF_001693675.1     True\n",
       "GCF_900011245.1     True\n",
       "GCF_900078695.1     True\n",
       "GCF_900086555.1     True\n",
       "GCF_900087055.1    False\n",
       "dtype: bool"
      ]
     },
     "execution_count": 50,
     "metadata": {},
     "output_type": "execute_result"
    }
   ],
   "source": [
    "nan_genomes=gen.isnull().any(axis=1)\n",
    "nan_genomes\n",
    "#gen.isnull().values.ravel().sum()"
   ]
  },
  {
   "cell_type": "code",
   "execution_count": 36,
   "metadata": {
    "collapsed": false
   },
   "outputs": [
    {
     "ename": "AttributeError",
     "evalue": "'function' object has no attribute 'count'",
     "output_type": "error",
     "traceback": [
      "\u001b[1;31m---------------------------------------------------------------------------\u001b[0m",
      "\u001b[1;31mAttributeError\u001b[0m                            Traceback (most recent call last)",
      "\u001b[1;32m<ipython-input-36-cbb69f037f37>\u001b[0m in \u001b[0;36m<module>\u001b[1;34m()\u001b[0m\n\u001b[1;32m----> 1\u001b[1;33m \u001b[0mgen\u001b[0m\u001b[1;33m.\u001b[0m\u001b[0misnull\u001b[0m\u001b[1;33m.\u001b[0m\u001b[0mcount\u001b[0m\u001b[1;33m(\u001b[0m\u001b[1;33m)\u001b[0m\u001b[1;33m\u001b[0m\u001b[0m\n\u001b[0m",
      "\u001b[1;31mAttributeError\u001b[0m: 'function' object has no attribute 'count'"
     ]
    }
   ],
   "source": [
    "df.isnull()\n",
    "\n",
    "df.isnull().any(axis=1)\n",
    "\n",
    "df[df.isnull().any(axis=1)]\n",
    "   0   1   2\n",
    "1  0 NaN   0"
   ]
  },
  {
   "cell_type": "code",
   "execution_count": 43,
   "metadata": {
    "collapsed": false
   },
   "outputs": [
    {
     "data": {
      "text/html": [
       "<div>\n",
       "<table border=\"1\" class=\"dataframe\">\n",
       "  <thead>\n",
       "    <tr style=\"text-align: right;\">\n",
       "      <th></th>\n",
       "      <th>1</th>\n",
       "      <th>2</th>\n",
       "      <th>3</th>\n",
       "      <th>4</th>\n",
       "      <th>5</th>\n",
       "      <th>6</th>\n",
       "      <th>7</th>\n",
       "      <th>8</th>\n",
       "      <th>9</th>\n",
       "      <th>10</th>\n",
       "      <th>...</th>\n",
       "      <th>991</th>\n",
       "      <th>992</th>\n",
       "      <th>993</th>\n",
       "      <th>994</th>\n",
       "      <th>995</th>\n",
       "      <th>996</th>\n",
       "      <th>997</th>\n",
       "      <th>998</th>\n",
       "      <th>999</th>\n",
       "      <th>1000</th>\n",
       "    </tr>\n",
       "  </thead>\n",
       "  <tbody>\n",
       "    <tr>\n",
       "      <th>4440984.3</th>\n",
       "      <td>7.728</td>\n",
       "      <td>9.718</td>\n",
       "      <td>10.221</td>\n",
       "      <td>8.958</td>\n",
       "      <td>8.315</td>\n",
       "      <td>7.953</td>\n",
       "      <td>8.445</td>\n",
       "      <td>9.532</td>\n",
       "      <td>6.526</td>\n",
       "      <td>9.570</td>\n",
       "      <td>...</td>\n",
       "      <td>10.135</td>\n",
       "      <td>10.215</td>\n",
       "      <td>9.467</td>\n",
       "      <td>10.568</td>\n",
       "      <td>10.014</td>\n",
       "      <td>10.092</td>\n",
       "      <td>10.998</td>\n",
       "      <td>8.066</td>\n",
       "      <td>10.365</td>\n",
       "      <td>10.075</td>\n",
       "    </tr>\n",
       "    <tr>\n",
       "      <th>4441020.3</th>\n",
       "      <td>10.446</td>\n",
       "      <td>9.003</td>\n",
       "      <td>7.771</td>\n",
       "      <td>8.599</td>\n",
       "      <td>5.589</td>\n",
       "      <td>11.201</td>\n",
       "      <td>8.770</td>\n",
       "      <td>9.770</td>\n",
       "      <td>6.006</td>\n",
       "      <td>6.363</td>\n",
       "      <td>...</td>\n",
       "      <td>9.227</td>\n",
       "      <td>8.225</td>\n",
       "      <td>6.469</td>\n",
       "      <td>7.968</td>\n",
       "      <td>8.341</td>\n",
       "      <td>10.609</td>\n",
       "      <td>10.954</td>\n",
       "      <td>7.587</td>\n",
       "      <td>8.966</td>\n",
       "      <td>8.266</td>\n",
       "    </tr>\n",
       "    <tr>\n",
       "      <th>4441021.3</th>\n",
       "      <td>9.446</td>\n",
       "      <td>8.149</td>\n",
       "      <td>6.127</td>\n",
       "      <td>10.039</td>\n",
       "      <td>9.830</td>\n",
       "      <td>7.544</td>\n",
       "      <td>11.091</td>\n",
       "      <td>9.762</td>\n",
       "      <td>8.645</td>\n",
       "      <td>5.608</td>\n",
       "      <td>...</td>\n",
       "      <td>9.877</td>\n",
       "      <td>9.020</td>\n",
       "      <td>7.628</td>\n",
       "      <td>10.642</td>\n",
       "      <td>7.004</td>\n",
       "      <td>7.125</td>\n",
       "      <td>8.578</td>\n",
       "      <td>9.269</td>\n",
       "      <td>6.527</td>\n",
       "      <td>8.220</td>\n",
       "    </tr>\n",
       "    <tr>\n",
       "      <th>4441022.3</th>\n",
       "      <td>7.348</td>\n",
       "      <td>8.828</td>\n",
       "      <td>10.413</td>\n",
       "      <td>8.426</td>\n",
       "      <td>8.365</td>\n",
       "      <td>9.581</td>\n",
       "      <td>9.248</td>\n",
       "      <td>7.311</td>\n",
       "      <td>8.180</td>\n",
       "      <td>8.335</td>\n",
       "      <td>...</td>\n",
       "      <td>11.277</td>\n",
       "      <td>10.480</td>\n",
       "      <td>9.827</td>\n",
       "      <td>11.212</td>\n",
       "      <td>8.755</td>\n",
       "      <td>9.638</td>\n",
       "      <td>9.252</td>\n",
       "      <td>10.547</td>\n",
       "      <td>7.483</td>\n",
       "      <td>10.761</td>\n",
       "    </tr>\n",
       "    <tr>\n",
       "      <th>4441205.3</th>\n",
       "      <td>7.017</td>\n",
       "      <td>7.102</td>\n",
       "      <td>4.813</td>\n",
       "      <td>5.262</td>\n",
       "      <td>4.757</td>\n",
       "      <td>4.803</td>\n",
       "      <td>6.646</td>\n",
       "      <td>8.184</td>\n",
       "      <td>5.437</td>\n",
       "      <td>7.681</td>\n",
       "      <td>...</td>\n",
       "      <td>5.073</td>\n",
       "      <td>3.794</td>\n",
       "      <td>4.246</td>\n",
       "      <td>5.437</td>\n",
       "      <td>6.865</td>\n",
       "      <td>7.478</td>\n",
       "      <td>6.094</td>\n",
       "      <td>4.355</td>\n",
       "      <td>4.796</td>\n",
       "      <td>5.076</td>\n",
       "    </tr>\n",
       "  </tbody>\n",
       "</table>\n",
       "<p>5 rows × 1000 columns</p>\n",
       "</div>"
      ],
      "text/plain": [
       "                1      2       3       4      5       6       7      8      9  \\\n",
       "4440984.3   7.728  9.718  10.221   8.958  8.315   7.953   8.445  9.532  6.526   \n",
       "4441020.3  10.446  9.003   7.771   8.599  5.589  11.201   8.770  9.770  6.006   \n",
       "4441021.3   9.446  8.149   6.127  10.039  9.830   7.544  11.091  9.762  8.645   \n",
       "4441022.3   7.348  8.828  10.413   8.426  8.365   9.581   9.248  7.311  8.180   \n",
       "4441205.3   7.017  7.102   4.813   5.262  4.757   4.803   6.646  8.184  5.437   \n",
       "\n",
       "              10   ...       991     992    993     994     995     996  \\\n",
       "4440984.3  9.570   ...    10.135  10.215  9.467  10.568  10.014  10.092   \n",
       "4441020.3  6.363   ...     9.227   8.225  6.469   7.968   8.341  10.609   \n",
       "4441021.3  5.608   ...     9.877   9.020  7.628  10.642   7.004   7.125   \n",
       "4441022.3  8.335   ...    11.277  10.480  9.827  11.212   8.755   9.638   \n",
       "4441205.3  7.681   ...     5.073   3.794  4.246   5.437   6.865   7.478   \n",
       "\n",
       "              997     998     999    1000  \n",
       "4440984.3  10.998   8.066  10.365  10.075  \n",
       "4441020.3  10.954   7.587   8.966   8.266  \n",
       "4441021.3   8.578   9.269   6.527   8.220  \n",
       "4441022.3   9.252  10.547   7.483  10.761  \n",
       "4441205.3   6.094   4.355   4.796   5.076  \n",
       "\n",
       "[5 rows x 1000 columns]"
      ]
     },
     "execution_count": 43,
     "metadata": {},
     "output_type": "execute_result"
    }
   ],
   "source": [
    "#Data obtained from using script extract_random_scores.pl -dire 100\n",
    "#perl /home/valdeanda/src/metagenome_Pfam_score-master/scripts/extract_random_scores.pl -dire 60\n",
    "\n",
    "\n",
    "df_60 = pd.read_table('60.random_scores.tab',index_col=0)\n",
    "#df_100 = pd.read_table('100.random_scores.tab',index_col=0)\n",
    "#df_150 = pd.read_table('150.random_scores.tab',index_col=0)\n",
    "#df_200 = pd.read_table('200.random_scores.tab',index_col=0)\n",
    "#df_250 = pd.read_table('250.random_scores.tab',index_col=0)\n",
    "#df_300 = pd.read_table('300.random_scores.tab',index_col=0)\n",
    "\n",
    "#Genomic dataset \n",
    "df_60.head()\n"
   ]
  },
  {
   "cell_type": "code",
   "execution_count": 45,
   "metadata": {
    "collapsed": false
   },
   "outputs": [
    {
     "data": {
      "text/plain": [
       "<matplotlib.axes._subplots.AxesSubplot at 0x7f62a361e7b8>"
      ]
     },
     "execution_count": 45,
     "metadata": {},
     "output_type": "execute_result"
    },
    {
     "data": {
      "image/png": "[encoded data removed]",
      "text/plain": [
       "<matplotlib.figure.Figure at 0x7f62a32b4080>"
      ]
     },
     "metadata": {},
     "output_type": "display_data"
    }
   ],
   "source": [
    "sns.heatmap(df_60.isnull())"
   ]
  },
  {
   "cell_type": "code",
   "execution_count": 28,
   "metadata": {
    "collapsed": false
   },
   "outputs": [
    {
     "data": {
      "text/plain": [
       "Unnamed: 0    56\n",
       "1             56\n",
       "2             56\n",
       "3             56\n",
       "4             56\n",
       "5             56\n",
       "6             56\n",
       "7             56\n",
       "8             56\n",
       "9             56\n",
       "10            56\n",
       "11            56\n",
       "12            56\n",
       "13            56\n",
       "14            56\n",
       "15            56\n",
       "16            56\n",
       "17            56\n",
       "18            56\n",
       "19            56\n",
       "20            56\n",
       "21            56\n",
       "22            56\n",
       "23            56\n",
       "24            56\n",
       "25            56\n",
       "26            56\n",
       "27            56\n",
       "28            56\n",
       "29            56\n",
       "              ..\n",
       "971           56\n",
       "972           56\n",
       "973           56\n",
       "974           56\n",
       "975           56\n",
       "976           56\n",
       "977           56\n",
       "978           56\n",
       "979           56\n",
       "980           56\n",
       "981           56\n",
       "982           56\n",
       "983           56\n",
       "984           56\n",
       "985           56\n",
       "986           56\n",
       "987           56\n",
       "988           56\n",
       "989           56\n",
       "990           56\n",
       "991           56\n",
       "992           56\n",
       "993           56\n",
       "994           56\n",
       "995           56\n",
       "996           56\n",
       "997           56\n",
       "998           56\n",
       "999           56\n",
       "1000          56\n",
       "dtype: int64"
      ]
     },
     "execution_count": 28,
     "metadata": {},
     "output_type": "execute_result"
    }
   ],
   "source": [
    ".any(axis=1)\n",
    "df.isnull().any(axis=1)\n",
    "\n",
    "df[df.isnull().any(axis=1)]\n",
    "   0   1   2\n",
    "1  0 NaN   0"
   ]
  },
  {
   "cell_type": "code",
   "execution_count": null,
   "metadata": {
    "collapsed": true
   },
   "outputs": [],
   "source": []
  }
 ],
 "metadata": {
  "kernelspec": {
   "display_name": "Python 3",
   "language": "python",
   "name": "python3"
  },
  "language_info": {
   "codemirror_mode": {
    "name": "ipython",
    "version": 3
   },
   "file_extension": ".py",
   "mimetype": "text/x-python",
   "name": "python",
   "nbconvert_exporter": "python",
   "pygments_lexer": "ipython3",
   "version": "3.4.3+"
  }
 },
 "nbformat": 4,
 "nbformat_minor": 0
}
